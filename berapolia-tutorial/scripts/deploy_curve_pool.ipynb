{
 "cells": [
  {
   "cell_type": "code",
   "execution_count": 1,
   "id": "da71e4cc-b78f-4f1b-b606-f44057fb66fb",
   "metadata": {},
   "outputs": [],
   "source": [
    "import boa\n",
    "import warnings\n",
    "import json\n",
    "\n",
    "warnings.filterwarnings(\"ignore\")\n",
    "\n",
    "fork_mode = True\n",
    "\n",
    "if fork_mode:\n",
    "    RPC_URL = 'https://bepolia.rpc.berachain.com/'\n",
    "    boa.env.fork(RPC_URL)\n",
    "else:\n",
    "    boa.env.set_browser_env()\n",
    "    boa.env.set_chain_id(80069)"
   ]
  },
  {
   "cell_type": "code",
   "execution_count": 2,
   "id": "fde4b8ac-e75e-47de-88a7-88ea1abdb83c",
   "metadata": {},
   "outputs": [],
   "source": [
    "# Addresses\n",
    "crv_addr = '0x9eE77BFB546805fAfeB0a5e0cb150d5f82cDa47D'\n",
    "crvusd_addr = '0x696FDd959BC098449aBaFF47436fcc7e1992922f' \n",
    "factory_addr = '0x714Ca028410E3cc5dD7D1F1A3b1C5A0B8d05399D'\n",
    "\n",
    "user = '0x172dbbDa74a14268F62c87b02fC3B4438E0E328d'"
   ]
  },
  {
   "cell_type": "code",
   "execution_count": 3,
   "id": "e4e1f187-e9f1-4932-8c17-20f34dfdc193",
   "metadata": {},
   "outputs": [],
   "source": [
    "# Load Token from Contract\n",
    "token_contract_path = '../contracts/Token.vy'\n",
    "token_contract = boa.load_partial(token_contract_path)\n",
    "\n",
    "# Load factory from ABI \n",
    "factory_abi_path = 'curve-core/amm/twocryptoswap/factory/factory_v_200.json'\n",
    "factory = boa.load_abi(factory_abi_path).at(factory_addr)\n",
    "\n",
    "# TwoCrypto from ABI\n",
    "pool_abi_path = 'curve-core/amm/twocryptoswap/implementation/implementation_v_210.json'\n",
    "pool_contract = boa.load_abi(pool_abi_path)"
   ]
  },
  {
   "cell_type": "markdown",
   "id": "0b204af5-f8c4-428a-b6a8-b2307bdca1cd",
   "metadata": {},
   "source": [
    "# Deploy Pool"
   ]
  },
  {
   "cell_type": "code",
   "execution_count": 4,
   "id": "9a17b847-c519-4be6-8f20-8b20c19f3b36",
   "metadata": {},
   "outputs": [],
   "source": [
    "# https://nagaking.substack.com/p/deep-dive-curve-v2-parameters\n",
    "\n",
    "init_price = int(0.69 * 10 ** 18)\n",
    "deploy_addr = factory.deploy_pool('bera_crv_test', \n",
    "                                  'brvusd', \n",
    "                                  [crv_addr, crvusd_addr], \n",
    "                      0,  # Implementation\n",
    "                      40000000, # A\n",
    "                      2000000000000000,  # Gamma\n",
    "                      3000000, # mid_fee\n",
    "                      45000000,  #out_fee\n",
    "                      300000000000000000,  #fee_gamma\n",
    "                      10000000000, #allowed_extra_profit\n",
    "                      5500000000000,  #adjustment_step\n",
    "                      866, #ma_exp_time\n",
    "                                  init_price\n",
    "                                 )\n",
    "pool = pool_contract.at(deploy_addr)"
   ]
  },
  {
   "cell_type": "code",
   "execution_count": 5,
   "id": "f85ed344-e10c-40a5-bb22-526e874db113",
   "metadata": {},
   "outputs": [
    {
     "name": "stdout",
     "output_type": "stream",
     "text": [
      "CRV Balance: 100000000.0\n",
      "crvUSD Balance: 100000000.0\n",
      "0.69\n"
     ]
    }
   ],
   "source": [
    "crv = token_contract.at(crv_addr)\n",
    "crvusd = token_contract.at(crvusd_addr)\n",
    "\n",
    "print(f\"CRV Balance: {crv.balanceOf(user) / 10 ** 18}\")\n",
    "print(f\"crvUSD Balance: {crv.balanceOf(user) / 10 ** 18}\")\n",
    "print(pool.price_oracle() / 10 ** 18)"
   ]
  },
  {
   "cell_type": "markdown",
   "id": "1fed967f-9d97-49ab-a973-92a340e631ff",
   "metadata": {},
   "source": [
    "# Seed Pool"
   ]
  },
  {
   "cell_type": "code",
   "execution_count": 6,
   "id": "a6b7d195-3219-42fb-a43c-29b9468d7e03",
   "metadata": {},
   "outputs": [
    {
     "name": "stdout",
     "output_type": "stream",
     "text": [
      "[1000000000000000000, 1449275362318840576]\n"
     ]
    }
   ],
   "source": [
    "def seed_pool(pool, amounts, crv, crvusd):\n",
    "    crv.approve(pool, 2 ** 256 -1)\n",
    "    crvusd.approve(pool, 2 ** 256 - 1)\n",
    "\n",
    "    pool.add_liquidity([crv_amt, crvusd_amt], 0)\n",
    "    \n",
    "crvusd_amt = 10 ** 18\n",
    "crv_amt = int(crvusd_amt / init_price * 10 ** 18)\n",
    "amounts = [crvusd_amt, crv_amt]\n",
    "\n",
    "if fork_mode:\n",
    "    with boa.env.prank(user):\n",
    "        seed_pool(pool, amounts, crv, crvusd)\n",
    "else:\n",
    "    seed_pool(pool, amounts, crv, crvusd)"
   ]
  }
 ],
 "metadata": {
  "kernelspec": {
   "display_name": "Python 3 (ipykernel)",
   "language": "python",
   "name": "python3"
  },
  "language_info": {
   "codemirror_mode": {
    "name": "ipython",
    "version": 3
   },
   "file_extension": ".py",
   "mimetype": "text/x-python",
   "name": "python",
   "nbconvert_exporter": "python",
   "pygments_lexer": "ipython3",
   "version": "3.13.2"
  }
 },
 "nbformat": 4,
 "nbformat_minor": 5
}
